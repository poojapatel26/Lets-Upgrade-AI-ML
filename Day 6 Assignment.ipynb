{
 "cells": [
  {
   "cell_type": "markdown",
   "metadata": {},
   "source": [
    "# Day 6 Assignment"
   ]
  },
  {
   "cell_type": "markdown",
   "metadata": {},
   "source": [
    "## Question 1 :\n",
    "\n",
    "### Assuming that we have some email addresses in the \"username@companyname.com\" format, please write a program to print the company name of a given email address. Both user names and company names are composed of letters only.  \n",
    "Input Format:  The first line of the input contains an email address.\n",
    "\n",
    "Output Format: Print the company name in a single line.\n",
    "\n",
    "Example;\n",
    "Input:\n",
    "john@google.com\n",
    "\n",
    "Output:\n",
    "google."
   ]
  },
  {
   "cell_type": "code",
   "execution_count": 18,
   "metadata": {},
   "outputs": [],
   "source": [
    "def give_company(emailId):\n",
    "    s1=emailId.split('@')\n",
    "    s2=str(s1[1].split('.')[:1]).strip('[]').strip(\"''\")\n",
    "    print(\"Company name is:: \",s2)"
   ]
  },
  {
   "cell_type": "code",
   "execution_count": 19,
   "metadata": {},
   "outputs": [
    {
     "name": "stdout",
     "output_type": "stream",
     "text": [
      "Enter a email address like(username@companyname.com):: rohit@facebook.com\n",
      "Company name is::  facebook\n"
     ]
    }
   ],
   "source": [
    "emailId=input(\"Enter a email address like(username@companyname.com):: \")\n",
    "give_company(emailId)"
   ]
  },
  {
   "cell_type": "markdown",
   "metadata": {},
   "source": [
    "## Question 2 :\n",
    "### Write a program that accepts a comma-separated sequence of words as input and prints the words in a comma-separated sequence after sorting them alphabetically.\n",
    "\n",
    "Input Format:\n",
    "The first line of input contains words separated by the comma.\n",
    "\n",
    "Output Format:\n",
    "Print the sorted words separated by the comma.\n",
    "\n",
    "Example:\n",
    "Input:\n",
    "without,hello,bag,world\n",
    "\n",
    "Output:\n",
    "bag,hello,without,world"
   ]
  },
  {
   "cell_type": "code",
   "execution_count": 3,
   "metadata": {},
   "outputs": [
    {
     "name": "stdout",
     "output_type": "stream",
     "text": [
      "Enter words using coma:: ziya,diya,piya,ana\n",
      "Alphabetically sorted words are::  ana,diya,piya,ziya\n"
     ]
    }
   ],
   "source": [
    "words=input(\"Enter words using coma:: \")\n",
    "words=[w for w in words.split(',')]\n",
    "words.sort()\n",
    "print(\"Alphabetically sorted words are:: \",(','.join(words)))"
   ]
  },
  {
   "cell_type": "markdown",
   "metadata": {},
   "source": [
    "## Question 3:\n",
    "### Create your own Jupyter Notebook for Sets. Reference link:\n",
    "https://www.w3schools.com/python/python_sets.asp"
   ]
  },
  {
   "cell_type": "markdown",
   "metadata": {},
   "source": [
    "# Sets"
   ]
  },
  {
   "cell_type": "markdown",
   "metadata": {},
   "source": [
    "Sets are written with curly brackets."
   ]
  },
  {
   "cell_type": "code",
   "execution_count": 4,
   "metadata": {},
   "outputs": [
    {
     "name": "stdout",
     "output_type": "stream",
     "text": [
      "{'OOP', 'JAVA', 'PYTHON'}\n"
     ]
    }
   ],
   "source": [
    "s={'OOP','JAVA','PYTHON'}\n",
    "print(s)"
   ]
  },
  {
   "cell_type": "code",
   "execution_count": 5,
   "metadata": {},
   "outputs": [
    {
     "name": "stdout",
     "output_type": "stream",
     "text": [
      "OOP\n",
      "JAVA\n",
      "PYTHON\n"
     ]
    }
   ],
   "source": [
    "#using loop set items are printed\n",
    "for i in s:\n",
    "    print(i)"
   ]
  },
  {
   "cell_type": "code",
   "execution_count": 6,
   "metadata": {},
   "outputs": [
    {
     "name": "stdout",
     "output_type": "stream",
     "text": [
      "True\n"
     ]
    }
   ],
   "source": [
    "#particular item present in the set or not\n",
    "print('PYTHON' in s)"
   ]
  },
  {
   "cell_type": "markdown",
   "metadata": {},
   "source": [
    "#### NOTE: You can not chnage the item of set but you can able add new iteams. \n",
    "    "
   ]
  },
  {
   "cell_type": "markdown",
   "metadata": {},
   "source": [
    "### SET methods:\n",
    "    "
   ]
  },
  {
   "cell_type": "raw",
   "metadata": {},
   "source": [
    "add(): this method adds one item to a set. \n",
    "\n",
    "update(): this method add more than one item to a set.\n",
    "\n",
    "len(): this methods shows how many items a set has.\n",
    "\n",
    "remove(): this method remove an item in a set. \n",
    "          If the item u want to remove is not present in a set then it will give the error.\n",
    "\n",
    "discard(): this method also remove an item in a set. \n",
    "           But If the item u want to remove is not present in a set then it will not give the error.\n",
    "\n",
    "pop(): it removes the last item in a set.\n",
    "\n",
    "clear(): it empties the set.\n",
    "\n",
    "del(): it deletes the set completely.\n",
    "        "
   ]
  },
  {
   "cell_type": "markdown",
   "metadata": {},
   "source": [
    "### Examples:-"
   ]
  },
  {
   "cell_type": "code",
   "execution_count": 7,
   "metadata": {},
   "outputs": [
    {
     "name": "stdout",
     "output_type": "stream",
     "text": [
      "set is::  {'OOP', 'JAVA', 'PYTHON'}\n",
      "-------------------------------------------------------------------------------------------------\n",
      "\n",
      "after adding an item::  {'OOP', 'JAVA', 'PYTHON', 'C'}\n",
      "\n",
      "adding more than one items::  {'VB.NET', 'ASP.NET', 'ANDROID', 'JAVA', 'C', 'OOP', 'PYTHON'}\n",
      "\n",
      "Length of the set is::  7\n",
      "\n",
      "Removing one item::  {'ASP.NET', 'ANDROID', 'JAVA', 'C', 'OOP', 'PYTHON'}\n",
      "\n",
      "Removing one item using discard method::  {'ASP.NET', 'ANDROID', 'JAVA', 'OOP', 'PYTHON'}\n",
      "\n",
      "Removing the item using pop method::  {'ANDROID', 'JAVA', 'OOP', 'PYTHON'}\n",
      "\n",
      "Clear a set::  set()\n"
     ]
    }
   ],
   "source": [
    "s={'OOP','JAVA','PYTHON'}\n",
    "print(\"set is:: \",s)\n",
    "print(\"-------------------------------------------------------------------------------------------------\")\n",
    "#add method\n",
    "s.add('C')\n",
    "print(\"\\nafter adding an item:: \",s)\n",
    "\n",
    "#update method\n",
    "s.update([\"ASP.NET\",\"VB.NET\",\"ANDROID\"])\n",
    "print(\"\\nadding more than one items:: \",s)\n",
    "\n",
    "#len method\n",
    "print(\"\\nLength of the set is:: \",len(s))\n",
    "\n",
    "#remove method\n",
    "s.remove(\"VB.NET\")\n",
    "print(\"\\nRemoving one item:: \",s)\n",
    "\n",
    "#discard method\n",
    "s.discard(\"C\")\n",
    "print(\"\\nRemoving one item using discard method:: \",s)\n",
    "\n",
    "#pop method\n",
    "s.pop()\n",
    "print(\"\\nRemoving the item using pop method:: \",s)\n",
    "\n",
    "#clear method\n",
    "s.clear()\n",
    "print(\"\\nClear a set:: \",s)\n",
    "\n",
    "#del method\n",
    "del s"
   ]
  },
  {
   "cell_type": "markdown",
   "metadata": {},
   "source": [
    "### other SET methods:"
   ]
  },
  {
   "cell_type": "raw",
   "metadata": {},
   "source": [
    "\n",
    "union():  it returns a new set with all items from both sets.\n",
    "\n",
    "update(): it inserts the items in set2 into set1.\n",
    "\n",
    "NOTE: Both union() and update() will exclude any duplicate items.  \n",
    "    "
   ]
  },
  {
   "cell_type": "code",
   "execution_count": 8,
   "metadata": {},
   "outputs": [
    {
     "name": "stdout",
     "output_type": "stream",
     "text": [
      "set1::  {'x', 'z', 'y'}\n",
      "set2::  {1, 2, 3}\n",
      "both set items are included in a new set(set3)::  {1, 2, 'z', 3, 'y', 'x'}\n",
      "\n",
      "set1::  {'x', 'z', 'y'}\n",
      "set2::  {1, 2, 3}\n",
      "After inserting set2 item into set1: \n",
      "set1::  {1, 2, 'z', 3, 'y', 'x'}\n"
     ]
    }
   ],
   "source": [
    "#examples:-\n",
    "\n",
    "#union() method\n",
    "set1 = {\"x\", \"y\" , \"z\"}\n",
    "set2 = {1, 2, 3}\n",
    "print(\"set1:: \",set1)\n",
    "print(\"set2:: \",set2)\n",
    "\n",
    "set3 = set1.union(set2)\n",
    "print(\"both set items are included in a new set(set3):: \",set3)\n",
    "\n",
    "#update() method\n",
    "set1 = {\"x\", \"y\" , \"z\"}\n",
    "set2 = {1, 2, 3}\n",
    "print(\"\\nset1:: \",set1)\n",
    "print(\"set2:: \",set2)\n",
    "print(\"After inserting set2 item into set1: \")\n",
    "\n",
    "set1.update(set2)\n",
    "print(\"set1:: \",set1)\n"
   ]
  },
  {
   "cell_type": "markdown",
   "metadata": {},
   "source": [
    "### set() constructor"
   ]
  },
  {
   "cell_type": "code",
   "execution_count": 9,
   "metadata": {},
   "outputs": [
    {
     "name": "stdout",
     "output_type": "stream",
     "text": [
      "{'banana', 'cherry', 'apple'}\n"
     ]
    }
   ],
   "source": [
    "#creating a set, using set() constructor,\n",
    "\n",
    "s1 = set((\"apple\", \"banana\", \"cherry\")) # note the double round-brackets\n",
    "print(s1)"
   ]
  },
  {
   "cell_type": "markdown",
   "metadata": {},
   "source": [
    "## Question 4:\n",
    "### Given a list of n-1 numbers ranging from 1 to n, your task is to find the missing number. There are no duplicates.\n",
    "\n",
    "Input Format:\n",
    "The first line contains n-1 numbers with each number separated by a space.\n",
    "\n",
    "Output Format:\n",
    "Print the missing number\n",
    "\n",
    "Example:\n",
    "Input:\n",
    "1 2 4 6 3 7 8\n",
    "\n",
    "Output:\n",
    "5\n",
    "\n",
    "Explanation:\n",
    "In the above list of numbers 5 is missing and hence 5 is the input"
   ]
  },
  {
   "cell_type": "code",
   "execution_count": 10,
   "metadata": {},
   "outputs": [
    {
     "name": "stdout",
     "output_type": "stream",
     "text": [
      "list of numbers are :  2  3  1  6  8  9\n",
      "\n",
      "Below number are missing in the list: \n",
      "4 5 7 "
     ]
    }
   ],
   "source": [
    "num_lst=[2,3,1,6,8,9]\n",
    "n=max(num_lst)\n",
    "n=n+1\n",
    "\n",
    "print(\"list of numbers are : \",str(num_lst).replace(',',' ').strip('[]'))\n",
    "total_list=[i for i in range(1,n)]\n",
    "\n",
    "print(\"\\nBelow number are missing in the list: \")\n",
    "\n",
    "for n in total_list:\n",
    "    if n not in num_lst:\n",
    "        print(n,end=' ')\n",
    "        "
   ]
  },
  {
   "cell_type": "markdown",
   "metadata": {},
   "source": [
    "## Question 5:\n",
    "### With a given list L, write a program to print this list L after removing all duplicate values with original order reserved.\n",
    "\n",
    "Example:\n",
    "If the input list is\n",
    "12 24 35 24 88 120 155 88 120 155\n",
    "\n",
    "Then the output should be\n",
    "12 24 35 88 120 155\n",
    "\n",
    "Explanation:\n",
    "Third, the seventh and ninth element of the list L has been removed because it was already present.\n",
    "Input Format:\n",
    "In one line take the elements of the list L with each element separated by a space.\n",
    "Output Format:\n",
    "Print the elements of the modified list in one line with each element separated by a space.\n",
    "\n",
    "Example:\n",
    "Input:\n",
    "12 24 35 24\n",
    "\n",
    "Output:\n",
    "12 24 35"
   ]
  },
  {
   "cell_type": "code",
   "execution_count": 11,
   "metadata": {},
   "outputs": [
    {
     "name": "stdout",
     "output_type": "stream",
     "text": [
      "List of numbers :  11  21  21  11  61\n",
      "\n",
      "After removing duplicate number the list is :  11  21  61\n"
     ]
    }
   ],
   "source": [
    "lst=[11,21,21,11,61]\n",
    "print(\"List of numbers : \",str(lst).replace(',',' ').strip('[]'))\n",
    "\n",
    "lst.sort()\n",
    "\n",
    "final_lst=[]\n",
    "for num in lst:\n",
    "    if num not in final_lst:\n",
    "        final_lst.append(num)\n",
    "print(\"\\nAfter removing duplicate number the list is : \",str(final_lst).replace(',',' ').strip('[]'))    \n",
    "    "
   ]
  },
  {
   "cell_type": "code",
   "execution_count": null,
   "metadata": {},
   "outputs": [],
   "source": []
  }
 ],
 "metadata": {
  "kernelspec": {
   "display_name": "Python 3",
   "language": "python",
   "name": "python3"
  },
  "language_info": {
   "codemirror_mode": {
    "name": "ipython",
    "version": 3
   },
   "file_extension": ".py",
   "mimetype": "text/x-python",
   "name": "python",
   "nbconvert_exporter": "python",
   "pygments_lexer": "ipython3",
   "version": "3.7.4"
  }
 },
 "nbformat": 4,
 "nbformat_minor": 2
}
