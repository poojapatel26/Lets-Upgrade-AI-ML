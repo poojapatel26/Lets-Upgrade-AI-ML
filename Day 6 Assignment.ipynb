{
 "cells": [
  {
   "cell_type": "markdown",
   "metadata": {},
   "source": [
    "# Day 6 Assignment"
   ]
  },
  {
   "cell_type": "markdown",
   "metadata": {},
   "source": [
    "## Question 1 :\n",
    "\n",
    "### Assuming that we have some email addresses in the \"username@companyname.com\" format, please write a program to print the company name of a given email address. Both user names and company names are composed of letters only.  \n",
    "Input Format:  The first line of the input contains an email address.\n",
    "\n",
    "Output Format: Print the company name in a single line.\n",
    "\n",
    "Example;\n",
    "Input:\n",
    "john@google.com\n",
    "\n",
    "Output:\n",
    "google."
   ]
  },
  {
   "cell_type": "code",
   "execution_count": 3,
   "metadata": {},
   "outputs": [],
   "source": [
    "def give_company(emailId):\n",
    "    s1=emailId.split('@')\n",
    "    s2=str(s1[1].split('.')[:1]).strip('[]')\n",
    "    print(\"Company name is:: \",s2)"
   ]
  },
  {
   "cell_type": "code",
   "execution_count": 4,
   "metadata": {},
   "outputs": [
    {
     "name": "stdout",
     "output_type": "stream",
     "text": [
      "Enter a email address like(username@companyname.com)Rima@facebook.com\n",
      "Company name is::  'facebook'\n"
     ]
    }
   ],
   "source": [
    "emailId=input(\"Enter a email address like(username@companyname.com)\")\n",
    "give_company(emailId)"
   ]
  },
  {
   "cell_type": "markdown",
   "metadata": {},
   "source": [
    "## Question 2 :\n",
    "### Write a program that accepts a comma-separated sequence of words as input and prints the words in a comma-separated sequence after sorting them alphabetically.\n",
    "\n",
    "Input Format:\n",
    "The first line of input contains words separated by the comma.\n",
    "\n",
    "Output Format:\n",
    "Print the sorted words separated by the comma.\n",
    "\n",
    "Example:\n",
    "Input:\n",
    "without,hello,bag,world\n",
    "\n",
    "Output:\n",
    "bag,hello,without,world"
   ]
  },
  {
   "cell_type": "code",
   "execution_count": 53,
   "metadata": {},
   "outputs": [
    {
     "name": "stdout",
     "output_type": "stream",
     "text": [
      "Enter words:: diya,ana,ziya\n",
      "Alphabetically sorted words are::  ana,diya,ziya\n"
     ]
    }
   ],
   "source": [
    "words=input(\"Enter words using coma:: \")\n",
    "words=[w for w in words.split(',')]\n",
    "words.sort()\n",
    "print(\"Alphabetically sorted words are:: \",(','.join(words)))"
   ]
  },
  {
   "cell_type": "markdown",
   "metadata": {},
   "source": [
    "## Question 3:\n",
    "### Create your own Jupyter Notebook for Sets. Reference link:\n",
    "https://www.w3schools.com/python/python_sets.asp"
   ]
  },
  {
   "cell_type": "code",
   "execution_count": null,
   "metadata": {},
   "outputs": [],
   "source": []
  },
  {
   "cell_type": "markdown",
   "metadata": {},
   "source": [
    "## Question 4:\n",
    "### Given a list of n-1 numbers ranging from 1 to n, your task is to find the missing number. There are no duplicates.\n",
    "\n",
    "Input Format:\n",
    "The first line contains n-1 numbers with each number separated by a space.\n",
    "\n",
    "Output Format:\n",
    "Print the missing number\n",
    "\n",
    "Example:\n",
    "Input:\n",
    "1 2 4 6 3 7 8\n",
    "\n",
    "Output:\n",
    "5\n",
    "\n",
    "Explanation:\n",
    "In the above list of numbers 5 is missing and hence 5 is the input"
   ]
  },
  {
   "cell_type": "code",
   "execution_count": 37,
   "metadata": {},
   "outputs": [
    {
     "name": "stdout",
     "output_type": "stream",
     "text": [
      "list of numbers are :  2  3  1  6  8  9\n",
      "\n",
      "Below number are missing in the list: \n",
      "4 5 7 "
     ]
    }
   ],
   "source": [
    "num_lst=[2,3,1,6,8,9]\n",
    "n=max(num_lst)\n",
    "n=n+1\n",
    "\n",
    "print(\"list of numbers are : \",str(num_lst).replace(',',' ').strip('[]'))\n",
    "total_list=[i for i in range(1,n)]\n",
    "\n",
    "print(\"\\nBelow number are missing in the list: \")\n",
    "\n",
    "for n in total_list:\n",
    "    if n not in num_lst:\n",
    "        print(n,end=' ')\n",
    "        "
   ]
  },
  {
   "cell_type": "markdown",
   "metadata": {},
   "source": [
    "## Question 5:\n",
    "### With a given list L, write a program to print this list L after removing all duplicate values with original order reserved.\n",
    "\n",
    "Example:\n",
    "If the input list is\n",
    "12 24 35 24 88 120 155 88 120 155\n",
    "\n",
    "Then the output should be\n",
    "12 24 35 88 120 155\n",
    "\n",
    "Explanation:\n",
    "Third, the seventh and ninth element of the list L has been removed because it was already present.\n",
    "Input Format:\n",
    "In one line take the elements of the list L with each element separated by a space.\n",
    "Output Format:\n",
    "Print the elements of the modified list in one line with each element separated by a space.\n",
    "\n",
    "Example:\n",
    "Input:\n",
    "12 24 35 24\n",
    "\n",
    "Output:\n",
    "12 24 35"
   ]
  },
  {
   "cell_type": "code",
   "execution_count": 33,
   "metadata": {},
   "outputs": [
    {
     "name": "stdout",
     "output_type": "stream",
     "text": [
      "List of numbers :  11  21  21  11  61\n",
      "\n",
      "After removing duplicate number the list is :  11  21  61\n"
     ]
    }
   ],
   "source": [
    "lst=[11,21,21,11,61]\n",
    "print(\"List of numbers : \",str(lst).replace(',',' ').strip('[]'))\n",
    "\n",
    "lst.sort()\n",
    "\n",
    "final_lst=[]\n",
    "for num in lst:\n",
    "    if num not in final_lst:\n",
    "        final_lst.append(num)\n",
    "print(\"\\nAfter removing duplicate number the list is : \",str(final_lst).replace(',',' ').strip('[]'))    \n",
    "    "
   ]
  }
 ],
 "metadata": {
  "kernelspec": {
   "display_name": "Python 3",
   "language": "python",
   "name": "python3"
  },
  "language_info": {
   "codemirror_mode": {
    "name": "ipython",
    "version": 3
   },
   "file_extension": ".py",
   "mimetype": "text/x-python",
   "name": "python",
   "nbconvert_exporter": "python",
   "pygments_lexer": "ipython3",
   "version": "3.7.4"
  }
 },
 "nbformat": 4,
 "nbformat_minor": 2
}
