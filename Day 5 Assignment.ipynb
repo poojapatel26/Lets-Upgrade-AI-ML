{
 "cells": [
  {
   "cell_type": "markdown",
   "metadata": {},
   "source": [
    "# Day 5 Assignment"
   ]
  },
  {
   "cell_type": "markdown",
   "metadata": {},
   "source": [
    "## Question 1 :\n",
    "### Write a Python program to find the first 20 non-even prime natural numbers."
   ]
  },
  {
   "cell_type": "code",
   "execution_count": 1,
   "metadata": {},
   "outputs": [
    {
     "name": "stdout",
     "output_type": "stream",
     "text": [
      "First 20 non-even prime numbers are\n",
      "7\n",
      "9\n",
      "11\n",
      "13\n",
      "15\n",
      "17\n",
      "19\n"
     ]
    }
   ],
   "source": [
    "n=20\n",
    "print(\"First\",n,\"non-even prime numbers are\")      \n",
    "for i in range(2,n):\n",
    "    for j in range(2,i//2):\n",
    "        if i % 2 == 0:\n",
    "            break;\n",
    "        else:\n",
    "            print(i)\n",
    "            break;\n",
    "          \n",
    "   \n"
   ]
  },
  {
   "cell_type": "markdown",
   "metadata": {},
   "source": [
    "## Question 2 :\n",
    "### Write a Python program to implement 15 functions of string."
   ]
  },
  {
   "cell_type": "code",
   "execution_count": 2,
   "metadata": {},
   "outputs": [
    {
     "name": "stdout",
     "output_type": "stream",
     "text": [
      "Original String is: Hello there guys\n",
      "\n",
      "-----------------------------------------------------------------\n",
      "\n",
      "spliting a string ::\n",
      "['Hello', 'there', 'guys']\n",
      "\n",
      "-----------------------------------------------------------------\n",
      "\n",
      "joining a two string 'Hello' and 'there' with the help of hash(#) ::\n",
      "Hello#there#guys\n",
      "\n",
      "-----------------------------------------------------------------\n",
      "\n",
      "converting a string into Upper case ::\n",
      "HELLO THERE GUYS\n",
      "\n",
      "-----------------------------------------------------------------\n",
      "\n",
      "converting a string into Lower case ::\n",
      "hello there guys\n",
      "\n",
      "-----------------------------------------------------------------\n",
      "\n",
      "Swaping case like lower to upper case vice versa ::\n",
      "HELLO THERE GUYS\n",
      "\n",
      "-----------------------------------------------------------------\n",
      "\n",
      "Capitalize a string(first letter is captial) ::\n",
      "Hello there guys\n",
      "\n",
      "-----------------------------------------------------------------\n",
      "\n",
      "Title your string like first character in every word is upper case ::\n",
      "Hello There Guys\n",
      "\n",
      "-----------------------------------------------------------------\n",
      "\n",
      "Counting a occurence of letter in a string ::\n",
      "1\n",
      "\n",
      "-----------------------------------------------------------------\n",
      "\n",
      "Searches the string and returns the position of where it was found ::\n",
      "6\n",
      "\n",
      "-----------------------------------------------------------------\n",
      "\n",
      "Replacing 'Hello' to 'Hi' string ::\n",
      "Hi there guys\n",
      "\n",
      "-----------------------------------------------------------------\n",
      "\n",
      "Method splits a string into a list, starting from the right\n",
      "['Hello', 'there', 'guys']\n",
      "\n",
      "-----------------------------------------------------------------\n",
      "\n",
      "Check if all the characters in a string are alphanumeric:\n",
      "False\n",
      "\n",
      "-----------------------------------------------------------------\n",
      "\n",
      "Check if all the characters in a string in lower case:\n",
      "False\n",
      "\n",
      "-----------------------------------------------------------------\n",
      "\n",
      "Check if all the characters in a string are whitespaces:\n",
      "False\n",
      "\n",
      "-----------------------------------------------------------------\n",
      "\n",
      "Check if each word start with an upper case letter:\n",
      "False\n",
      "\n",
      "-----------------------------------------------------------------\n"
     ]
    }
   ],
   "source": [
    "a=\"Hello there guys\"\n",
    "\n",
    "print(\"Original String is:\",a)\n",
    "print(\"\\n-----------------------------------------------------------------\")\n",
    "\n",
    "\n",
    "print(\"\\nspliting a string ::\")\n",
    "x=a.split()\n",
    "print(x)\n",
    "print(\"\\n-----------------------------------------------------------------\")\n",
    "\n",
    "print(\"\\njoining a two string 'Hello' and 'there' with the help of hash(#) ::\")\n",
    "print('#'.join(x))\n",
    "print(\"\\n-----------------------------------------------------------------\")\n",
    "\n",
    "\n",
    "print(\"\\nconverting a string into Upper case ::\")\n",
    "print(a.upper())\n",
    "print(\"\\n-----------------------------------------------------------------\")\n",
    "\n",
    "\n",
    "print(\"\\nconverting a string into Lower case ::\")\n",
    "lower_case=a.lower()\n",
    "print(lower_case)\n",
    "print(\"\\n-----------------------------------------------------------------\")\n",
    "\n",
    "\n",
    "print(\"\\nSwaping case like lower to upper case vice versa ::\")\n",
    "print(lower_case.swapcase())\n",
    "print(\"\\n-----------------------------------------------------------------\")\n",
    "\n",
    "\n",
    "print(\"\\nCapitalize a string(first letter is captial) ::\")\n",
    "print(a.capitalize())\n",
    "print(\"\\n-----------------------------------------------------------------\")\n",
    "\n",
    "\n",
    "print(\"\\nTitle your string like first character in every word is upper case ::\")\n",
    "print(a.title())\n",
    "print(\"\\n-----------------------------------------------------------------\")\n",
    "\n",
    "\n",
    "print(\"\\nCounting a occurence of letter in a string ::\")\n",
    "print(a.count(\"H\"))\n",
    "print(\"\\n-----------------------------------------------------------------\")\n",
    "\n",
    "\n",
    "print(\"\\nSearches the string and returns the position of where it was found ::\")\n",
    "print(a.find(\"t\"))\n",
    "print(\"\\n-----------------------------------------------------------------\")\n",
    "\n",
    "\n",
    "print(\"\\nReplacing 'Hello' to 'Hi' string ::\")\n",
    "print(a.replace('Hello','Hi'))\n",
    "print(\"\\n-----------------------------------------------------------------\")\n",
    "\n",
    "print(\"\\nMethod splits a string into a list, starting from the right\")\n",
    "print(a.rsplit())\n",
    "print(\"\\n-----------------------------------------------------------------\")\n",
    "\n",
    "print(\"\\nCheck if all the characters in a string are alphanumeric:\")\n",
    "print(a.isalnum())\n",
    "print(\"\\n-----------------------------------------------------------------\")\n",
    "\n",
    "\n",
    "print(\"\\nCheck if all the characters in a string in lower case:\")\n",
    "print(a.islower())\n",
    "print(\"\\n-----------------------------------------------------------------\")\n",
    "\n",
    "\n",
    "print(\"\\nCheck if all the characters in a string are whitespaces:\")\n",
    "print(a.isspace())\n",
    "print(\"\\n-----------------------------------------------------------------\")\n",
    "\n",
    "\n",
    "print(\"\\nCheck if each word start with an upper case letter:\")\n",
    "print(a.istitle())\n",
    "print(\"\\n-----------------------------------------------------------------\")\n",
    "\n"
   ]
  },
  {
   "cell_type": "markdown",
   "metadata": {},
   "source": [
    "## Question 3:\n",
    "### Write a Python program to check if the given string is a Palindrome or Anagram or None of them. Display the message accordingly to the user."
   ]
  },
  {
   "cell_type": "code",
   "execution_count": 3,
   "metadata": {},
   "outputs": [],
   "source": [
    "def reverse(s):\n",
    "    str1=\"\"\n",
    "    for i in s:\n",
    "        str1= i + str1\n",
    "    return str1"
   ]
  },
  {
   "cell_type": "code",
   "execution_count": 4,
   "metadata": {},
   "outputs": [
    {
     "name": "stdout",
     "output_type": "stream",
     "text": [
      "Enter a 1st string:: MOM\n",
      "Enter a 2nd string:: OMM\n",
      "MOM is Palindrome string\n",
      "And MOM and OMM are Anagram string\n"
     ]
    }
   ],
   "source": [
    "s1=input('Enter a 1st string:: ')\n",
    "s2=input('Enter a 2nd string:: ')\n",
    "\n",
    "\n",
    "if (s1 == reverse(s1)):\n",
    "    print(s1,\"is Palindrome string\")\n",
    "    if(sorted(s1)==sorted(s2)):\n",
    "        print(\"And\",s1,\"and\",s2,\"are Anagram string\")\n",
    "elif (sorted(s1)==sorted(s2)):\n",
    "    print(s1,\"and\",s2,\"are Anagram string\")\n",
    "elif (s2 == reverse(s2)):\n",
    "    print(s2,\"is Palindrome string\")\n",
    "else:\n",
    "    print(\"The string is not Palindrome and Anagram\")"
   ]
  },
  {
   "cell_type": "markdown",
   "metadata": {},
   "source": [
    "## Question 4:\n",
    "### Write a Python's user-defined function that removes all the additional characters from the string and convert it finally to lower case using built-in lower(). eg: If the string is \"Dr. Darshan Ingle @AIML Trainer\", then the output be \"drdarshaningleaimltrainer\"."
   ]
  },
  {
   "cell_type": "code",
   "execution_count": 5,
   "metadata": {},
   "outputs": [],
   "source": [
    "def remove_additional_characters(text):\n",
    "    return text.replace(\" \",\"\").replace(\".\",\"\").replace('@','').lower()\n",
    "    "
   ]
  },
  {
   "cell_type": "code",
   "execution_count": 6,
   "metadata": {},
   "outputs": [
    {
     "name": "stdout",
     "output_type": "stream",
     "text": [
      "Enter a string:: Dr. Darshan Ingle @AIML Trainer\n"
     ]
    },
    {
     "data": {
      "text/plain": [
       "'drdarshaningleaimltrainer'"
      ]
     },
     "execution_count": 6,
     "metadata": {},
     "output_type": "execute_result"
    }
   ],
   "source": [
    "txt=input(\"Enter a string:: \")\n",
    "remove_additional_characters(txt)"
   ]
  }
 ],
 "metadata": {
  "kernelspec": {
   "display_name": "Python 3",
   "language": "python",
   "name": "python3"
  },
  "language_info": {
   "codemirror_mode": {
    "name": "ipython",
    "version": 3
   },
   "file_extension": ".py",
   "mimetype": "text/x-python",
   "name": "python",
   "nbconvert_exporter": "python",
   "pygments_lexer": "ipython3",
   "version": "3.7.4"
  }
 },
 "nbformat": 4,
 "nbformat_minor": 2
}
