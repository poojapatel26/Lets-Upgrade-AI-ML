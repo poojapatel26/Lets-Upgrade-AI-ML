{
 "cells": [
  {
   "cell_type": "markdown",
   "metadata": {},
   "source": [
    "# Day 7 Assignment\n",
    "  ### (File Handling and Dictionary)"
   ]
  },
  {
   "cell_type": "markdown",
   "metadata": {},
   "source": [
    "## Question 1:\n",
    "### Write a program to copy the contents of one file to another using a for loop. (Don’t use built-in copy function)"
   ]
  },
  {
   "cell_type": "code",
   "execution_count": 1,
   "metadata": {},
   "outputs": [],
   "source": [
    "f= open(\"t1.txt\",'w')\n",
    "f.write(\"Hello How are you all?\")\n",
    "f.close()"
   ]
  },
  {
   "cell_type": "code",
   "execution_count": 2,
   "metadata": {},
   "outputs": [
    {
     "name": "stdout",
     "output_type": "stream",
     "text": [
      "22\n"
     ]
    }
   ],
   "source": [
    "f= open(\"t1.txt\")\n",
    "f1=open(\"t2.txt\",'w')\n",
    "for i in f.readlines():\n",
    "    print(f1.write(i))\n",
    "f.close() \n",
    "f1.close()    "
   ]
  },
  {
   "cell_type": "markdown",
   "metadata": {},
   "source": [
    "## Question 2:\n",
    "### Write a Python program to find maximum and minimum values in the dictionary. Do not use built-in min and max functions."
   ]
  },
  {
   "cell_type": "code",
   "execution_count": 3,
   "metadata": {},
   "outputs": [
    {
     "data": {
      "text/plain": [
       "{'k1': 100, 'k2': 20, 'k3': 200, 'k4': 60, 'k5': 80}"
      ]
     },
     "execution_count": 3,
     "metadata": {},
     "output_type": "execute_result"
    }
   ],
   "source": [
    "d={'k1':100,'k2':20,'k3':200,'k4':60,'k5':80}\n",
    "d"
   ]
  },
  {
   "cell_type": "code",
   "execution_count": 4,
   "metadata": {},
   "outputs": [
    {
     "name": "stdout",
     "output_type": "stream",
     "text": [
      "Maximum value in the dictionary is::  k3 200\n"
     ]
    }
   ],
   "source": [
    "#max value in dictionary\n",
    "val=list(d.values())\n",
    "val.sort()\n",
    "max_value=val[-1]\n",
    "\n",
    "for key in d:\n",
    "    if d[key]==max_value:\n",
    "        print(\"Maximum value in the dictionary is:: \",key,max_value)"
   ]
  },
  {
   "cell_type": "code",
   "execution_count": 5,
   "metadata": {},
   "outputs": [
    {
     "name": "stdout",
     "output_type": "stream",
     "text": [
      "Minimum value in the dictionary is::  k2 20\n"
     ]
    }
   ],
   "source": [
    "#min value in dictionary\n",
    "v1=list(d.values())\n",
    "v1.sort()\n",
    "min_value=v1[0]\n",
    "\n",
    "for key in d:\n",
    "    if d[key]==min_value:\n",
    "        print(\"Minimum value in the dictionary is:: \",key,min_value)"
   ]
  }
 ],
 "metadata": {
  "kernelspec": {
   "display_name": "Python 3",
   "language": "python",
   "name": "python3"
  },
  "language_info": {
   "codemirror_mode": {
    "name": "ipython",
    "version": 3
   },
   "file_extension": ".py",
   "mimetype": "text/x-python",
   "name": "python",
   "nbconvert_exporter": "python",
   "pygments_lexer": "ipython3",
   "version": "3.7.4"
  }
 },
 "nbformat": 4,
 "nbformat_minor": 2
}
