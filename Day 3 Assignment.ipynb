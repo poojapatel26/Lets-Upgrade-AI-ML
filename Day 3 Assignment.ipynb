{
 "cells": [
  {
   "cell_type": "markdown",
   "metadata": {},
   "source": [
    "# Day 3 Assignment"
   ]
  },
  {
   "cell_type": "markdown",
   "metadata": {},
   "source": [
    "## Question 1:\n",
    "### Write a program to subtract two complex numbers in Python."
   ]
  },
  {
   "cell_type": "code",
   "execution_count": 1,
   "metadata": {},
   "outputs": [
    {
     "name": "stdout",
     "output_type": "stream",
     "text": [
      "Subtraction of two complex numbers is : (4+6j)\n"
     ]
    }
   ],
   "source": [
    "no1= 25+10j\n",
    "no2 = 21+4j\n",
    "sub=no1-no2\n",
    "print(\"Subtraction of two complex numbers is :\",sub)"
   ]
  },
  {
   "cell_type": "markdown",
   "metadata": {},
   "source": [
    "## Question 2 :\n",
    "### Write a program to find the fourth root of a number."
   ]
  },
  {
   "cell_type": "code",
   "execution_count": 2,
   "metadata": {},
   "outputs": [
    {
     "name": "stdout",
     "output_type": "stream",
     "text": [
      "The fourth root of 10000 is ::  10.0\n"
     ]
    }
   ],
   "source": [
    "no1=10000\n",
    "print(\"The fourth root of\",no1,\"is :: \",no1 ** (1/4))"
   ]
  },
  {
   "cell_type": "markdown",
   "metadata": {},
   "source": [
    "## Question 3:\n",
    "### Write a program to swap two numbers in Python with the help of a temporary variable."
   ]
  },
  {
   "cell_type": "code",
   "execution_count": 3,
   "metadata": {},
   "outputs": [
    {
     "name": "stdout",
     "output_type": "stream",
     "text": [
      "The values of number 1 and number 2\n",
      "n1= 10\n",
      "n2= 12\n",
      "-----------------------------------------------\n",
      "After Swaping the vaue of number 1 and number 2\n",
      "n1= 12\n",
      "n2= 10\n"
     ]
    }
   ],
   "source": [
    "n1=10\n",
    "n2=12\n",
    "temp=0\n",
    "\n",
    "print(\"The values of number 1 and number 2\")\n",
    "print(\"n1=\",n1)\n",
    "print(\"n2=\",n2)\n",
    "\n",
    "temp=n1\n",
    "n1=n2\n",
    "n2=temp\n",
    "\n",
    "print(\"-----------------------------------------------\")\n",
    "print(\"After Swaping the vaue of number 1 and number 2\")\n",
    "print(\"n1=\",n1)\n",
    "print(\"n2=\",n2)"
   ]
  },
  {
   "cell_type": "markdown",
   "metadata": {},
   "source": [
    "## Question 4:\n",
    "### Write a program to swap two numbers in Python without using a temporary variable."
   ]
  },
  {
   "cell_type": "code",
   "execution_count": 4,
   "metadata": {},
   "outputs": [
    {
     "name": "stdout",
     "output_type": "stream",
     "text": [
      "The values of number 1 and number 2\n",
      "n1= 10\n",
      "n2= 12\n",
      "-----------------------------------------------\n",
      "After Swaping the vaue of number 1 and number 2\n",
      "n1= 12\n",
      "n2= 10\n"
     ]
    }
   ],
   "source": [
    "n1=10\n",
    "n2=12\n",
    "\n",
    "print(\"The values of number 1 and number 2\")\n",
    "print(\"n1=\",n1)\n",
    "print(\"n2=\",n2)\n",
    "\n",
    "n1=n1+n2\n",
    "n2=n1-n2\n",
    "n1=n1-n2\n",
    "\n",
    "\n",
    "print(\"-----------------------------------------------\")\n",
    "print(\"After Swaping the vaue of number 1 and number 2\")\n",
    "print(\"n1=\",n1)\n",
    "print(\"n2=\",n2)"
   ]
  },
  {
   "cell_type": "markdown",
   "metadata": {},
   "source": [
    "## Question 5:\n",
    "### Write a program to convert Fahrenheit to kelvin and celsius both."
   ]
  },
  {
   "cell_type": "code",
   "execution_count": 5,
   "metadata": {},
   "outputs": [
    {
     "name": "stdout",
     "output_type": "stream",
     "text": [
      "Converting Fahrenheit temprature into kelvin is:  288.7055555555555\n",
      "--------------------------------------------------------------------\n",
      "Converting Fahrenheit temprature into celsius is:  15.555555555555555\n"
     ]
    }
   ],
   "source": [
    "F_temprature = 60\n",
    "kelvin = (F_temprature - 32) * 5/9 + 273.15\n",
    "print(\"Converting Fahrenheit temprature into kelvin is: \",kelvin)\n",
    "\n",
    "celsius = (F_temprature - 32) * 5/9\n",
    "print(\"--------------------------------------------------------------------\")\n",
    "print(\"Converting Fahrenheit temprature into celsius is: \",celsius)\n"
   ]
  },
  {
   "cell_type": "markdown",
   "metadata": {},
   "source": [
    "## Question 6:\n",
    "### Write a program to demonstrate all the available data types in Python. Hint: Use type() function."
   ]
  },
  {
   "cell_type": "code",
   "execution_count": 6,
   "metadata": {},
   "outputs": [
    {
     "name": "stdout",
     "output_type": "stream",
     "text": [
      "The type of variable a is:  <class 'int'>\n",
      "The type of variable b is:  <class 'float'>\n",
      "The type of variable c is:  <class 'str'>\n",
      "The type of variable d is:  <class 'tuple'>\n",
      "The type of variable e is:  <class 'list'>\n",
      "The type of print is:  <class 'builtin_function_or_method'>\n"
     ]
    }
   ],
   "source": [
    "a=10\n",
    "b=11.1\n",
    "c=\"Pooja\"\n",
    "d=(1,2)\n",
    "e=[1,1,2,3]\n",
    "\n",
    "print(\"The type of variable a is: \",type(a))\n",
    "print(\"The type of variable b is: \",type(b))\n",
    "print(\"The type of variable c is: \",type(c))\n",
    "print(\"The type of variable d is: \",type(d))\n",
    "print(\"The type of variable e is: \",type(e))\n",
    "print(\"The type of print is: \",type(print))"
   ]
  },
  {
   "cell_type": "code",
   "execution_count": null,
   "metadata": {},
   "outputs": [],
   "source": []
  }
 ],
 "metadata": {
  "kernelspec": {
   "display_name": "Python 3",
   "language": "python",
   "name": "python3"
  },
  "language_info": {
   "codemirror_mode": {
    "name": "ipython",
    "version": 3
   },
   "file_extension": ".py",
   "mimetype": "text/x-python",
   "name": "python",
   "nbconvert_exporter": "python",
   "pygments_lexer": "ipython3",
   "version": "3.7.4"
  }
 },
 "nbformat": 4,
 "nbformat_minor": 2
}
