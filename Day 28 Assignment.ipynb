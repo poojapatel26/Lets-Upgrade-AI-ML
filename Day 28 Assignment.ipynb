{
 "cells": [
  {
   "cell_type": "markdown",
   "metadata": {},
   "source": [
    "## Day 28 Assignment"
   ]
  },
  {
   "cell_type": "code",
   "execution_count": 1,
   "metadata": {},
   "outputs": [
    {
     "name": "stderr",
     "output_type": "stream",
     "text": [
      "/Users/Pooja/opt/anaconda3/lib/python3.7/site-packages/statsmodels/tools/_testing.py:19: FutureWarning: pandas.util.testing is deprecated. Use the functions in the public API at pandas.testing instead.\n",
      "  import pandas.util.testing as tm\n"
     ]
    }
   ],
   "source": [
    "import numpy as np\n",
    "import matplotlib.pyplot as plt\n",
    "import seaborn as sns"
   ]
  },
  {
   "cell_type": "markdown",
   "metadata": {},
   "source": [
    "## Question 1:\n",
    "### Create one array of actual values and another array of predicted values. Compare the two sets with the confusion matrix."
   ]
  },
  {
   "cell_type": "code",
   "execution_count": 2,
   "metadata": {},
   "outputs": [],
   "source": [
    "arr1_actual= [0,1,1,0,1,1,0,1,0,1,1,0]\n",
    "arr2_predict= [0,0,1,0,0,1,0,1,0,0,1,1]\n",
    "\n",
    "from sklearn.metrics import confusion_matrix\n"
   ]
  },
  {
   "cell_type": "code",
   "execution_count": 3,
   "metadata": {},
   "outputs": [
    {
     "data": {
      "text/plain": [
       "array([[4, 1],\n",
       "       [3, 4]])"
      ]
     },
     "execution_count": 3,
     "metadata": {},
     "output_type": "execute_result"
    }
   ],
   "source": [
    "cm= confusion_matrix(arr1_actual,arr2_predict)\n",
    "cm"
   ]
  },
  {
   "cell_type": "markdown",
   "metadata": {},
   "source": [
    "## Question 2:\n",
    "### Find out the recall, precision, F1 score and confusion matrix with picture"
   ]
  },
  {
   "cell_type": "code",
   "execution_count": 4,
   "metadata": {},
   "outputs": [
    {
     "name": "stdout",
     "output_type": "stream",
     "text": [
      "\n"
     ]
    }
   ],
   "source": [
    "'''\n",
    "           |predicted \n",
    "           |cat | dog\n",
    "actual| cat| 42 | 8\n",
    "      | dog| 18 | 32    \n",
    "\n",
    "'''\n",
    "print()\n",
    "      "
   ]
  },
  {
   "cell_type": "code",
   "execution_count": 5,
   "metadata": {},
   "outputs": [
    {
     "name": "stdout",
     "output_type": "stream",
     "text": [
      "Confustion Matrix:\n",
      " [[42  8]\n",
      " [18 32]]\n"
     ]
    }
   ],
   "source": [
    "##confusion mtrix \n",
    "matrix=np.array([[42,8],[18,32]])\n",
    "print(\"Confustion Matrix:\\n\",matrix)"
   ]
  },
  {
   "cell_type": "code",
   "execution_count": 6,
   "metadata": {},
   "outputs": [],
   "source": [
    "##confusion mtrix \n",
    "matrix=np.array([[42,8],[18,32]])"
   ]
  },
  {
   "cell_type": "code",
   "execution_count": 7,
   "metadata": {},
   "outputs": [
    {
     "name": "stdout",
     "output_type": "stream",
     "text": [
      "\n",
      " Accuracy= 0.74\n",
      "\n",
      " Recall= 0.7\n",
      "\n",
      " Precision= 0.84\n",
      "\n",
      " f1 score= 0.7636363636363636\n"
     ]
    }
   ],
   "source": [
    "# True positive\n",
    "TP = matrix[0, 0]\n",
    "# True negetive\n",
    "TN = matrix[1, 1]\n",
    "# False positive\n",
    "FP = matrix[0, 1]\n",
    "# False negetive\n",
    "FN = matrix[1, 0]\n",
    "\n",
    "##Accuracy Score\n",
    "accuracy=(TP+TN)/ (TP + TN + FP + FN)\n",
    "print('\\n Accuracy=',accuracy)\n",
    "##Recall\n",
    "recall=(TP/(TP+FN))\n",
    "print('\\n Recall=',recall)\n",
    "##Precision\n",
    "precision=(TP/(TP+FP))\n",
    "print('\\n Precision=',precision)\n",
    "##f1 score \n",
    "f1_score=((2*(precision*recall))/(precision+recall))\n",
    "print('\\n f1 score=',f1_score)"
   ]
  },
  {
   "cell_type": "code",
   "execution_count": 8,
   "metadata": {},
   "outputs": [
    {
     "data": {
      "text/plain": [
       "Text(33.0, 0.5, 'Actual label')"
      ]
     },
     "execution_count": 8,
     "metadata": {},
     "output_type": "execute_result"
    },
    {
     "data": {
      "image/png": "[encoded data removed]",
      "text/plain": [
       "<Figure size 432x288 with 2 Axes>"
      ]
     },
     "metadata": {
      "needs_background": "light"
     },
     "output_type": "display_data"
    }
   ],
   "source": [
    "#figure\n",
    "sns.heatmap(matrix,annot=True,cmap=\"YlGnBu\",fmt='d')\n",
    "plt.xticks([0.5,1.5],labels=[1,0])\n",
    "plt.yticks([0.5,1.5],labels=[1,0])\n",
    "plt.title('Confusion matrix')\n",
    "plt.xlabel('Predicted label');\n",
    "plt.ylabel('Actual label')"
   ]
  }
 ],
 "metadata": {
  "kernelspec": {
   "display_name": "Python 3",
   "language": "python",
   "name": "python3"
  },
  "language_info": {
   "codemirror_mode": {
    "name": "ipython",
    "version": 3
   },
   "file_extension": ".py",
   "mimetype": "text/x-python",
   "name": "python",
   "nbconvert_exporter": "python",
   "pygments_lexer": "ipython3",
   "version": "3.7.4"
  }
 },
 "nbformat": 4,
 "nbformat_minor": 2
}
